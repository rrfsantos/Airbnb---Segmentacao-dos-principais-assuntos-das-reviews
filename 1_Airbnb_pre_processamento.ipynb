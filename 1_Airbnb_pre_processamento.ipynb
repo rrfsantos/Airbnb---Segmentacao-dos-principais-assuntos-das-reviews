{
  "nbformat": 4,
  "nbformat_minor": 0,
  "metadata": {
    "colab": {
      "name": "1_Airbnb_pre_processamento.ipynb",
      "provenance": [],
      "collapsed_sections": [],
      "machine_shape": "hm",
      "include_colab_link": true
    },
    "kernelspec": {
      "display_name": "Python 3",
      "language": "python",
      "name": "python3"
    }
  },
  "cells": [
    {
      "cell_type": "markdown",
      "metadata": {
        "id": "view-in-github",
        "colab_type": "text"
      },
      "source": [
        "<a href=\"https://colab.research.google.com/github/rrfsantos/Airbnb-Segmentacao-dos-principais-assuntos-das-reviews/blob/main/1_Airbnb_pre_processamento.ipynb\" target=\"_parent\"><img src=\"https://colab.research.google.com/assets/colab-badge.svg\" alt=\"Open In Colab\"/></a>"
      ]
    },
    {
      "cell_type": "code",
      "metadata": {
        "id": "EalrRZUzq3rJ"
      },
      "source": [
        "#!pip install contractions"
      ],
      "execution_count": null,
      "outputs": []
    },
    {
      "cell_type": "code",
      "source": [
        "!pip install googletrans==3.1.0a0"
      ],
      "metadata": {
        "colab": {
          "base_uri": "https://localhost:8080/"
        },
        "id": "88x0tWEzfFSD",
        "outputId": "078a1309-e208-4b5c-fff8-728dde73e286"
      },
      "execution_count": null,
      "outputs": [
        {
          "output_type": "stream",
          "name": "stdout",
          "text": [
            "Requirement already satisfied: googletrans==3.1.0a0 in /usr/local/lib/python3.7/dist-packages (3.1.0a0)\n",
            "Requirement already satisfied: httpx==0.13.3 in /usr/local/lib/python3.7/dist-packages (from googletrans==3.1.0a0) (0.13.3)\n",
            "Requirement already satisfied: rfc3986<2,>=1.3 in /usr/local/lib/python3.7/dist-packages (from httpx==0.13.3->googletrans==3.1.0a0) (1.5.0)\n",
            "Requirement already satisfied: certifi in /usr/local/lib/python3.7/dist-packages (from httpx==0.13.3->googletrans==3.1.0a0) (2021.10.8)\n",
            "Requirement already satisfied: sniffio in /usr/local/lib/python3.7/dist-packages (from httpx==0.13.3->googletrans==3.1.0a0) (1.2.0)\n",
            "Requirement already satisfied: idna==2.* in /usr/local/lib/python3.7/dist-packages (from httpx==0.13.3->googletrans==3.1.0a0) (2.10)\n",
            "Requirement already satisfied: hstspreload in /usr/local/lib/python3.7/dist-packages (from httpx==0.13.3->googletrans==3.1.0a0) (2021.12.1)\n",
            "Requirement already satisfied: httpcore==0.9.* in /usr/local/lib/python3.7/dist-packages (from httpx==0.13.3->googletrans==3.1.0a0) (0.9.1)\n",
            "Requirement already satisfied: chardet==3.* in /usr/local/lib/python3.7/dist-packages (from httpx==0.13.3->googletrans==3.1.0a0) (3.0.4)\n",
            "Requirement already satisfied: h2==3.* in /usr/local/lib/python3.7/dist-packages (from httpcore==0.9.*->httpx==0.13.3->googletrans==3.1.0a0) (3.2.0)\n",
            "Requirement already satisfied: h11<0.10,>=0.8 in /usr/local/lib/python3.7/dist-packages (from httpcore==0.9.*->httpx==0.13.3->googletrans==3.1.0a0) (0.9.0)\n",
            "Requirement already satisfied: hpack<4,>=3.0 in /usr/local/lib/python3.7/dist-packages (from h2==3.*->httpcore==0.9.*->httpx==0.13.3->googletrans==3.1.0a0) (3.0.0)\n",
            "Requirement already satisfied: hyperframe<6,>=5.2.0 in /usr/local/lib/python3.7/dist-packages (from h2==3.*->httpcore==0.9.*->httpx==0.13.3->googletrans==3.1.0a0) (5.2.0)\n"
          ]
        }
      ]
    },
    {
      "cell_type": "code",
      "metadata": {
        "colab": {
          "base_uri": "https://localhost:8080/"
        },
        "id": "tkUYZn8ubvvY",
        "outputId": "41f33bc4-c0fe-479b-f78b-436c92b88b87"
      },
      "source": [
        "# Importando bibliotecas\n",
        "import pandas as pd\n",
        "import numpy as np\n",
        "import warnings\n",
        "import nltk\n",
        "#import spacy\n",
        "import re\n",
        "import string\n",
        "#from contractions import contractions_dict\n",
        "from googletrans import Translator\n",
        "from nltk.corpus import stopwords\n",
        "from nltk.tokenize import TweetTokenizer\n",
        "from nltk.stem import PorterStemmer\n",
        "from nltk.stem import WordNetLemmatizer\n",
        "\n",
        "warnings.filterwarnings('ignore')\n",
        "nltk.download('punkt')\n",
        "nltk.download('stopwords')\n",
        "nltk.download('wordnet')\n",
        "np.random.seed(0)"
      ],
      "execution_count": null,
      "outputs": [
        {
          "output_type": "stream",
          "name": "stdout",
          "text": [
            "[nltk_data] Downloading package punkt to /root/nltk_data...\n",
            "[nltk_data]   Package punkt is already up-to-date!\n",
            "[nltk_data] Downloading package stopwords to /root/nltk_data...\n",
            "[nltk_data]   Package stopwords is already up-to-date!\n",
            "[nltk_data] Downloading package wordnet to /root/nltk_data...\n",
            "[nltk_data]   Package wordnet is already up-to-date!\n"
          ]
        }
      ]
    },
    {
      "cell_type": "code",
      "metadata": {
        "id": "duzMGpFqbvvc"
      },
      "source": [
        "#!python -m spacy download en_core_web_lg\n",
        "#!python -m spacy link en_core_web_lg en --force"
      ],
      "execution_count": null,
      "outputs": []
    },
    {
      "cell_type": "code",
      "metadata": {
        "colab": {
          "base_uri": "https://localhost:8080/"
        },
        "id": "5lhEoFBAb48S",
        "outputId": "6f96d40e-a347-400c-c3ba-c565e2dcb07b"
      },
      "source": [
        "from google.colab import drive\n",
        "drive.mount('/content/drive')\n",
        "\n",
        "import os\n",
        "workdir_path = '/content/drive/My Drive/Airbnb/'  # Inserir o local da pasta onde estão os arquivos de entrada (treino e teste)\n",
        "os.chdir(workdir_path)"
      ],
      "execution_count": null,
      "outputs": [
        {
          "output_type": "stream",
          "name": "stdout",
          "text": [
            "Drive already mounted at /content/drive; to attempt to forcibly remount, call drive.mount(\"/content/drive\", force_remount=True).\n"
          ]
        }
      ]
    },
    {
      "cell_type": "markdown",
      "source": [
        "#### Análise exploratória dos dados"
      ],
      "metadata": {
        "id": "_Sbhua37PynR"
      }
    },
    {
      "cell_type": "code",
      "metadata": {
        "id": "BI1EnLgpD4tk"
      },
      "source": [
        "# Carregando dataset reviews\n",
        "df_full = pd.read_csv('reviews.csv', engine='python')"
      ],
      "execution_count": null,
      "outputs": []
    },
    {
      "cell_type": "code",
      "source": [
        "# Verificando as dimensões do dataset completo\n",
        "print('------- Dimensões do dataset completo --------')\n",
        "print(\"Variáveis:\\t{}\\nEntradas:\\t{}\\n\".format(df_full.shape[1], df_full.shape[0]))"
      ],
      "metadata": {
        "colab": {
          "base_uri": "https://localhost:8080/"
        },
        "id": "M3VMpdqhHYHQ",
        "outputId": "2b16f608-c352-4efb-c8e3-9372dcc7247f"
      },
      "execution_count": null,
      "outputs": [
        {
          "output_type": "stream",
          "name": "stdout",
          "text": [
            "------- Dimensões do dataset completo --------\n",
            "Variáveis:\t6\n",
            "Entradas:\t356118\n",
            "\n"
          ]
        }
      ]
    },
    {
      "cell_type": "code",
      "source": [
        "# Selecionando 30% do dataset para construção do modelo\n",
        "df = df_full.sample(frac=0.30)"
      ],
      "metadata": {
        "id": "4AwRi2ykTdCt"
      },
      "execution_count": null,
      "outputs": []
    },
    {
      "cell_type": "code",
      "source": [
        "# Verificando as dimensões do dataset \"sample\"\n",
        "print('------- Dimensões do dataset --------')\n",
        "print(\"Variáveis:\\t{}\\nEntradas:\\t{}\\n\".format(df.shape[1], df.shape[0]))"
      ],
      "metadata": {
        "colab": {
          "base_uri": "https://localhost:8080/"
        },
        "id": "W7sWOamWSn4u",
        "outputId": "a1c0e998-9ecc-4f40-d680-1c8379f4031d"
      },
      "execution_count": null,
      "outputs": [
        {
          "output_type": "stream",
          "name": "stdout",
          "text": [
            "------- Dimensões do dataset --------\n",
            "Variáveis:\t6\n",
            "Entradas:\t3561\n",
            "\n"
          ]
        }
      ]
    },
    {
      "cell_type": "code",
      "source": [
        "# Identificando os tipos de dados\n",
        "df.dtypes"
      ],
      "metadata": {
        "colab": {
          "base_uri": "https://localhost:8080/"
        },
        "id": "BtIGDW5UOhxB",
        "outputId": "01cb738a-8383-4cfe-aa9a-6f2b9ccea662"
      },
      "execution_count": null,
      "outputs": [
        {
          "output_type": "execute_result",
          "data": {
            "text/plain": [
              "listing_id        int64\n",
              "id                int64\n",
              "date             object\n",
              "reviewer_id       int64\n",
              "reviewer_name    object\n",
              "comments         object\n",
              "dtype: object"
            ]
          },
          "metadata": {},
          "execution_count": 203
        }
      ]
    },
    {
      "cell_type": "code",
      "source": [
        "# Exemplos de registros do dataset\n",
        "df.head(2)"
      ],
      "metadata": {
        "colab": {
          "base_uri": "https://localhost:8080/",
          "height": 112
        },
        "id": "FnoXloDgJyZ2",
        "outputId": "34d38405-f9fb-4f99-d6e4-115c311a0301"
      },
      "execution_count": null,
      "outputs": [
        {
          "output_type": "execute_result",
          "data": {
            "text/plain": [
              "        listing_id         id        date  reviewer_id reviewer_name  \\\n",
              "315919    40652300  710542759  2020-11-22     20863004        Teresa   \n",
              "237975    21964073  751957974  2021-04-25     25503568        Cynara   \n",
              "\n",
              "                                                 comments  \n",
              "315919  O Apartamento é muitíssimo bem localizado, com...  \n",
              "237975  A estadia fói ótima. A casa possui boa localiz...  "
            ],
            "text/html": [
              "\n",
              "  <div id=\"df-d9d7eb94-54cf-4514-a5f4-a3809958e0f4\">\n",
              "    <div class=\"colab-df-container\">\n",
              "      <div>\n",
              "<style scoped>\n",
              "    .dataframe tbody tr th:only-of-type {\n",
              "        vertical-align: middle;\n",
              "    }\n",
              "\n",
              "    .dataframe tbody tr th {\n",
              "        vertical-align: top;\n",
              "    }\n",
              "\n",
              "    .dataframe thead th {\n",
              "        text-align: right;\n",
              "    }\n",
              "</style>\n",
              "<table border=\"1\" class=\"dataframe\">\n",
              "  <thead>\n",
              "    <tr style=\"text-align: right;\">\n",
              "      <th></th>\n",
              "      <th>listing_id</th>\n",
              "      <th>id</th>\n",
              "      <th>date</th>\n",
              "      <th>reviewer_id</th>\n",
              "      <th>reviewer_name</th>\n",
              "      <th>comments</th>\n",
              "    </tr>\n",
              "  </thead>\n",
              "  <tbody>\n",
              "    <tr>\n",
              "      <th>315919</th>\n",
              "      <td>40652300</td>\n",
              "      <td>710542759</td>\n",
              "      <td>2020-11-22</td>\n",
              "      <td>20863004</td>\n",
              "      <td>Teresa</td>\n",
              "      <td>O Apartamento é muitíssimo bem localizado, com...</td>\n",
              "    </tr>\n",
              "    <tr>\n",
              "      <th>237975</th>\n",
              "      <td>21964073</td>\n",
              "      <td>751957974</td>\n",
              "      <td>2021-04-25</td>\n",
              "      <td>25503568</td>\n",
              "      <td>Cynara</td>\n",
              "      <td>A estadia fói ótima. A casa possui boa localiz...</td>\n",
              "    </tr>\n",
              "  </tbody>\n",
              "</table>\n",
              "</div>\n",
              "      <button class=\"colab-df-convert\" onclick=\"convertToInteractive('df-d9d7eb94-54cf-4514-a5f4-a3809958e0f4')\"\n",
              "              title=\"Convert this dataframe to an interactive table.\"\n",
              "              style=\"display:none;\">\n",
              "        \n",
              "  <svg xmlns=\"http://www.w3.org/2000/svg\" height=\"24px\"viewBox=\"0 0 24 24\"\n",
              "       width=\"24px\">\n",
              "    <path d=\"M0 0h24v24H0V0z\" fill=\"none\"/>\n",
              "    <path d=\"M18.56 5.44l.94 2.06.94-2.06 2.06-.94-2.06-.94-.94-2.06-.94 2.06-2.06.94zm-11 1L8.5 8.5l.94-2.06 2.06-.94-2.06-.94L8.5 2.5l-.94 2.06-2.06.94zm10 10l.94 2.06.94-2.06 2.06-.94-2.06-.94-.94-2.06-.94 2.06-2.06.94z\"/><path d=\"M17.41 7.96l-1.37-1.37c-.4-.4-.92-.59-1.43-.59-.52 0-1.04.2-1.43.59L10.3 9.45l-7.72 7.72c-.78.78-.78 2.05 0 2.83L4 21.41c.39.39.9.59 1.41.59.51 0 1.02-.2 1.41-.59l7.78-7.78 2.81-2.81c.8-.78.8-2.07 0-2.86zM5.41 20L4 18.59l7.72-7.72 1.47 1.35L5.41 20z\"/>\n",
              "  </svg>\n",
              "      </button>\n",
              "      \n",
              "  <style>\n",
              "    .colab-df-container {\n",
              "      display:flex;\n",
              "      flex-wrap:wrap;\n",
              "      gap: 12px;\n",
              "    }\n",
              "\n",
              "    .colab-df-convert {\n",
              "      background-color: #E8F0FE;\n",
              "      border: none;\n",
              "      border-radius: 50%;\n",
              "      cursor: pointer;\n",
              "      display: none;\n",
              "      fill: #1967D2;\n",
              "      height: 32px;\n",
              "      padding: 0 0 0 0;\n",
              "      width: 32px;\n",
              "    }\n",
              "\n",
              "    .colab-df-convert:hover {\n",
              "      background-color: #E2EBFA;\n",
              "      box-shadow: 0px 1px 2px rgba(60, 64, 67, 0.3), 0px 1px 3px 1px rgba(60, 64, 67, 0.15);\n",
              "      fill: #174EA6;\n",
              "    }\n",
              "\n",
              "    [theme=dark] .colab-df-convert {\n",
              "      background-color: #3B4455;\n",
              "      fill: #D2E3FC;\n",
              "    }\n",
              "\n",
              "    [theme=dark] .colab-df-convert:hover {\n",
              "      background-color: #434B5C;\n",
              "      box-shadow: 0px 1px 3px 1px rgba(0, 0, 0, 0.15);\n",
              "      filter: drop-shadow(0px 1px 2px rgba(0, 0, 0, 0.3));\n",
              "      fill: #FFFFFF;\n",
              "    }\n",
              "  </style>\n",
              "\n",
              "      <script>\n",
              "        const buttonEl =\n",
              "          document.querySelector('#df-d9d7eb94-54cf-4514-a5f4-a3809958e0f4 button.colab-df-convert');\n",
              "        buttonEl.style.display =\n",
              "          google.colab.kernel.accessAllowed ? 'block' : 'none';\n",
              "\n",
              "        async function convertToInteractive(key) {\n",
              "          const element = document.querySelector('#df-d9d7eb94-54cf-4514-a5f4-a3809958e0f4');\n",
              "          const dataTable =\n",
              "            await google.colab.kernel.invokeFunction('convertToInteractive',\n",
              "                                                     [key], {});\n",
              "          if (!dataTable) return;\n",
              "\n",
              "          const docLinkHtml = 'Like what you see? Visit the ' +\n",
              "            '<a target=\"_blank\" href=https://colab.research.google.com/notebooks/data_table.ipynb>data table notebook</a>'\n",
              "            + ' to learn more about interactive tables.';\n",
              "          element.innerHTML = '';\n",
              "          dataTable['output_type'] = 'display_data';\n",
              "          await google.colab.output.renderOutput(dataTable, element);\n",
              "          const docLink = document.createElement('div');\n",
              "          docLink.innerHTML = docLinkHtml;\n",
              "          element.appendChild(docLink);\n",
              "        }\n",
              "      </script>\n",
              "    </div>\n",
              "  </div>\n",
              "  "
            ]
          },
          "metadata": {},
          "execution_count": 204
        }
      ]
    },
    {
      "cell_type": "code",
      "source": [
        "# Verificando valores nulos\n",
        "df.isna().sum()"
      ],
      "metadata": {
        "colab": {
          "base_uri": "https://localhost:8080/"
        },
        "id": "CqmVxVgwQHD7",
        "outputId": "258c30e1-7361-4871-96a5-e78f4a85fd2e"
      },
      "execution_count": null,
      "outputs": [
        {
          "output_type": "execute_result",
          "data": {
            "text/plain": [
              "listing_id       0\n",
              "id               0\n",
              "date             0\n",
              "reviewer_id      0\n",
              "reviewer_name    0\n",
              "comments         1\n",
              "dtype: int64"
            ]
          },
          "metadata": {},
          "execution_count": 205
        }
      ]
    },
    {
      "cell_type": "markdown",
      "metadata": {
        "id": "mB4t1wi6agYn"
      },
      "source": [
        "#### Pré-processamento do texto\n",
        "\n"
      ]
    },
    {
      "cell_type": "code",
      "source": [
        "# Removendo linhas com missing values\n",
        "df = df.dropna()"
      ],
      "metadata": {
        "id": "qpgwjAWkRe9g"
      },
      "execution_count": null,
      "outputs": []
    },
    {
      "cell_type": "code",
      "source": [
        "# Verificando as novas dimensões dataset\n",
        "print(\"Variáveis:\\t{}\\nEntradas:\\t{}\\n\".format(df.shape[1], df.shape[0]))"
      ],
      "metadata": {
        "colab": {
          "base_uri": "https://localhost:8080/"
        },
        "id": "trOF6y_mRxQU",
        "outputId": "a8e08338-fff8-47f0-c46e-2ae19cb4afee"
      },
      "execution_count": null,
      "outputs": [
        {
          "output_type": "stream",
          "name": "stdout",
          "text": [
            "Variáveis:\t6\n",
            "Entradas:\t3560\n",
            "\n"
          ]
        }
      ]
    },
    {
      "cell_type": "code",
      "source": [
        "display(df['comments'][315919])\n",
        "print('\\n')\n",
        "display(df['comments'][237975])"
      ],
      "metadata": {
        "colab": {
          "base_uri": "https://localhost:8080/",
          "height": 123
        },
        "id": "8B30HCpJkEso",
        "outputId": "e39a8bf8-898b-427c-b456-2895c1820953"
      },
      "execution_count": null,
      "outputs": [
        {
          "output_type": "display_data",
          "data": {
            "text/plain": [
              "'O Apartamento é muitíssimo bem localizado, com todas as necessidades e comodidades para uma longa temporada, A Márcia e seu marido são excelentes anfitriões foram gentis e resolveram alguns imprevistos rapidamente e tranquilos. Minha família se sentiu em casa. Voltaremos sempre.'"
            ],
            "application/vnd.google.colaboratory.intrinsic+json": {
              "type": "string"
            }
          },
          "metadata": {}
        },
        {
          "output_type": "stream",
          "name": "stdout",
          "text": [
            "\n",
            "\n"
          ]
        },
        {
          "output_type": "display_data",
          "data": {
            "text/plain": [
              "'A estadia fói ótima. A casa possui boa localização, ótima estrutura e é exatamente como nas fotos. O anfitrião nos deixou um galão de agua e itens básicos para preparar comida e itens de higiene. Recomendamos.'"
            ],
            "application/vnd.google.colaboratory.intrinsic+json": {
              "type": "string"
            }
          },
          "metadata": {}
        }
      ]
    },
    {
      "cell_type": "code",
      "source": [
        "# Removendo \"<br>\" e transformando os caracteres restantes em minúsculos\n",
        "remove_br = lambda x: re.sub(r'\\r<br/>', ' ', x.lower())\n",
        "df.comments = df.comments.apply(remove_br)\n",
        "\n",
        "print(df['comments'][315919],'\\n')\n",
        "print(df['comments'][237975])"
      ],
      "metadata": {
        "colab": {
          "base_uri": "https://localhost:8080/"
        },
        "id": "95lZjdr-XwZF",
        "outputId": "4a5bf70b-ea58-41a7-c555-793c650b5e07"
      },
      "execution_count": null,
      "outputs": [
        {
          "output_type": "stream",
          "name": "stdout",
          "text": [
            "o apartamento é muitíssimo bem localizado, com todas as necessidades e comodidades para uma longa temporada, a márcia e seu marido são excelentes anfitriões foram gentis e resolveram alguns imprevistos rapidamente e tranquilos. minha família se sentiu em casa. voltaremos sempre. \n",
            "\n",
            "a estadia fói ótima. a casa possui boa localização, ótima estrutura e é exatamente como nas fotos. o anfitrião nos deixou um galão de agua e itens básicos para preparar comida e itens de higiene. recomendamos.\n"
          ]
        }
      ]
    },
    {
      "cell_type": "code",
      "metadata": {
        "id": "mhzYRugcJjfO"
      },
      "source": [
        "# Expandindo contrações\n",
        "'''def expand_contractions(text, contraction_mapping=contractions_dict):\n",
        "    contractions_pattern = re.compile('({})'.format('|'.join(contraction_mapping.keys())), flags=re.IGNORECASE | re.DOTALL)\n",
        "\n",
        "    def expand_match(contraction):\n",
        "        match = contraction.group(0)\n",
        "        first_char = match[0]\n",
        "        expanded_contraction = contraction_mapping.get(match) \\\n",
        "            if contraction_mapping.get(match) \\\n",
        "            else contraction_mapping.get(match.lower())\n",
        "        expanded_contraction = first_char + expanded_contraction[1:]\n",
        "        return expanded_contraction\n",
        "  \n",
        "    try:\n",
        "      expanded_text = contractions_pattern.sub(expand_match, text)\n",
        "      expanded_text = re.sub(\"'\", \"\", expanded_text)\n",
        "    except:\n",
        "      return text\n",
        "    return expanded_text\n",
        "\n",
        "df.comments = df.comments.map(expand_contractions)\n",
        "\n",
        "print(df['comments'][3],'\\n')\n",
        "print(df['comments'][20])'''"
      ],
      "execution_count": null,
      "outputs": []
    },
    {
      "cell_type": "code",
      "metadata": {
        "id": "78jBLacOaYsY",
        "colab": {
          "base_uri": "https://localhost:8080/"
        },
        "outputId": "5b371d97-f675-469e-91c2-9d35e5087a16"
      },
      "source": [
        "# Removendo caracteres especiais\n",
        "def remove_special_characters(text):\n",
        "  text = re.sub(r'([{.(-)!}])', '', text)\n",
        "  text = re.sub(r'[^ \\\\t\\w\\.]', '', text)\n",
        "  text = re.sub(' +', ' ', text)\n",
        "  return text\n",
        "\n",
        "df.comments = df.comments.apply(remove_special_characters)\n",
        "\n",
        "print(df['comments'][315919],'\\n')\n",
        "print(df['comments'][237975])"
      ],
      "execution_count": null,
      "outputs": [
        {
          "output_type": "stream",
          "name": "stdout",
          "text": [
            "o apartamento é muitíssimo bem localizado com todas as necessidades e comodidades para uma longa temporada a márcia e seu marido são excelentes anfitriões foram gentis e resolveram alguns imprevistos rapidamente e tranquilos minha família se sentiu em casa voltaremos sempre \n",
            "\n",
            "a estadia fói ótima a casa possui boa localização ótima estrutura e é exatamente como nas fotos o anfitrião nos deixou um galão de agua e itens básicos para preparar comida e itens de higiene recomendamos\n"
          ]
        }
      ]
    },
    {
      "cell_type": "code",
      "source": [
        "# Traduzindo todas as reviews para o inglês\n",
        "comments = df.comments.to_list()\n",
        "comments_en = []\n",
        "translator = Translator(service_urls=['translate.googleapis.com'])\n",
        "translations = translator.translate(comments, dest='en')\n",
        "\n",
        "for translation in translations:\n",
        "    comments_en.append(translation.text)\n",
        "\n",
        "df.insert(len(df.columns), 'comments_en', comments_en)\n",
        "\n",
        "print(df['comments_en'][315919],'\\n')\n",
        "print(df['comments_en'][237975])"
      ],
      "metadata": {
        "colab": {
          "base_uri": "https://localhost:8080/"
        },
        "id": "146IW8IMwMRT",
        "outputId": "43fc2e1a-5a17-4c1c-e682-c7851d6c5edf"
      },
      "execution_count": null,
      "outputs": [
        {
          "output_type": "stream",
          "name": "stdout",
          "text": [
            "the apartment is very well located with all the necessities and amenities for a long stay Marcia and her husband are excellent hosts they were kind and resolved some unforeseen quickly and calmly my family felt at home we will always come back \n",
            "\n",
            "the stay was great the house has a good location great structure and it is exactly as in the photos the host left us a gallon of water and basic items to prepare food and hygiene items we recommend\n"
          ]
        }
      ]
    },
    {
      "cell_type": "code",
      "metadata": {
        "id": "zmvCqkoEgluF",
        "colab": {
          "base_uri": "https://localhost:8080/"
        },
        "outputId": "77a36ecc-6161-4bf9-ae38-adb80a84f51f"
      },
      "source": [
        "# Tokenizando\n",
        "tk = TweetTokenizer(preserve_case=False, strip_handles=True, reduce_len=True)\n",
        "\n",
        "df.comments_en = df.comments_en.apply(tk.tokenize)\n",
        "\n",
        "print(df['comments_en'][315919],'\\n')\n",
        "print(df['comments_en'][237975])"
      ],
      "execution_count": null,
      "outputs": [
        {
          "output_type": "stream",
          "name": "stdout",
          "text": [
            "['the', 'apartment', 'is', 'very', 'well', 'located', 'with', 'all', 'the', 'necessities', 'and', 'amenities', 'for', 'a', 'long', 'stay', 'marcia', 'and', 'her', 'husband', 'are', 'excellent', 'hosts', 'they', 'were', 'kind', 'and', 'resolved', 'some', 'unforeseen', 'quickly', 'and', 'calmly', 'my', 'family', 'felt', 'at', 'home', 'we', 'will', 'always', 'come', 'back'] \n",
            "\n",
            "['the', 'stay', 'was', 'great', 'the', 'house', 'has', 'a', 'good', 'location', 'great', 'structure', 'and', 'it', 'is', 'exactly', 'as', 'in', 'the', 'photos', 'the', 'host', 'left', 'us', 'a', 'gallon', 'of', 'water', 'and', 'basic', 'items', 'to', 'prepare', 'food', 'and', 'hygiene', 'items', 'we', 'recommend']\n"
          ]
        }
      ]
    },
    {
      "cell_type": "code",
      "metadata": {
        "id": "EQW2iWbQWaq1"
      },
      "source": [
        "'''# Lemetizando\n",
        "nlp = spacy.load('en')\n",
        "\n",
        "def lemmatize(text):\n",
        "    text = nlp(text)\n",
        "    text = ' '.join([word.lemma_ if word.lemma_ != '-PRON-' else word.text for word in text])\n",
        "    return text\n",
        "\n",
        "df.comments_en = df.comments_en.apply(lemmatize)\n",
        "\n",
        "print(df['comments_en'][315919],'\\n')\n",
        "print(df['comments_en'][237975])'''"
      ],
      "execution_count": null,
      "outputs": []
    },
    {
      "cell_type": "code",
      "metadata": {
        "id": "SXuZ4f1NwS-x",
        "colab": {
          "base_uri": "https://localhost:8080/"
        },
        "outputId": "4dd62bfd-9fb4-47c4-a74a-5a0da304e7d0"
      },
      "source": [
        "# Removendo stop words\n",
        "stopword_list = nltk.corpus.stopwords.words('english')\n",
        "new_stopwords = ['rio','janeiro','copacabana','hide','airbnb','website','cancel']\n",
        "stopword_list.extend(new_stopwords)\n",
        "\n",
        "stop_lambda = lambda x: [y for y in x if y not in stopword_list]\n",
        "\n",
        "df.comments_en = df.comments_en.apply(stop_lambda)\n",
        "\n",
        "print(df['comments_en'][315919],'\\n')\n",
        "print(df['comments_en'][237975])"
      ],
      "execution_count": null,
      "outputs": [
        {
          "output_type": "stream",
          "name": "stdout",
          "text": [
            "['apartment', 'well', 'located', 'necessities', 'amenities', 'long', 'stay', 'marcia', 'husband', 'excellent', 'hosts', 'kind', 'resolved', 'unforeseen', 'quickly', 'calmly', 'family', 'felt', 'home', 'always', 'come', 'back'] \n",
            "\n",
            "['stay', 'great', 'house', 'good', 'location', 'great', 'structure', 'exactly', 'photos', 'host', 'left', 'us', 'gallon', 'water', 'basic', 'items', 'prepare', 'food', 'hygiene', 'items', 'recommend']\n"
          ]
        }
      ]
    },
    {
      "cell_type": "code",
      "source": [
        "# Lemetizando\n",
        "def lemmatize_text(text):\n",
        "    lemmatizer = WordNetLemmatizer()\n",
        "    return [lemmatizer.lemmatize(w) for w in (text)]\n",
        "\n",
        "df.comments_en = df.comments_en.apply(lemmatize_text)\n",
        "\n",
        "print(df['comments_en'][315919],'\\n')\n",
        "print(df['comments_en'][237975])"
      ],
      "metadata": {
        "colab": {
          "base_uri": "https://localhost:8080/"
        },
        "id": "ynkl4yOvrekf",
        "outputId": "7c1e4402-fb1a-4d7d-9fd3-0d611ccba8a0"
      },
      "execution_count": null,
      "outputs": [
        {
          "output_type": "stream",
          "name": "stdout",
          "text": [
            "['apartment', 'well', 'located', 'necessity', 'amenity', 'long', 'stay', 'marcia', 'husband', 'excellent', 'host', 'kind', 'resolved', 'unforeseen', 'quickly', 'calmly', 'family', 'felt', 'home', 'always', 'come', 'back'] \n",
            "\n",
            "['stay', 'great', 'house', 'good', 'location', 'great', 'structure', 'exactly', 'photo', 'host', 'left', 'u', 'gallon', 'water', 'basic', 'item', 'prepare', 'food', 'hygiene', 'item', 'recommend']\n"
          ]
        }
      ]
    },
    {
      "cell_type": "code",
      "source": [
        "# Stemming\n",
        "def stem_text(text):\n",
        "    stemmer = PorterStemmer()\n",
        "    return [stemmer.stem(w) for w in (text)]\n",
        "\n",
        "df.comments_en = df.comments_en.apply(stem_text)\n",
        "\n",
        "print(df['comments_en'][315919],'\\n')\n",
        "print(df['comments_en'][237975])"
      ],
      "metadata": {
        "colab": {
          "base_uri": "https://localhost:8080/"
        },
        "id": "GwawbCrtk_TK",
        "outputId": "51822bd6-b972-4220-9cf4-901a1f0f34bc"
      },
      "execution_count": null,
      "outputs": [
        {
          "output_type": "stream",
          "name": "stdout",
          "text": [
            "['apart', 'well', 'locat', 'necess', 'amen', 'long', 'stay', 'marcia', 'husband', 'excel', 'host', 'kind', 'resolv', 'unforeseen', 'quickli', 'calmli', 'famili', 'felt', 'home', 'alway', 'come', 'back'] \n",
            "\n",
            "['stay', 'great', 'hous', 'good', 'locat', 'great', 'structur', 'exactli', 'photo', 'host', 'left', 'u', 'gallon', 'water', 'basic', 'item', 'prepar', 'food', 'hygien', 'item', 'recommend']\n"
          ]
        }
      ]
    },
    {
      "cell_type": "code",
      "metadata": {
        "id": "tzdMKfA4DjoF",
        "colab": {
          "base_uri": "https://localhost:8080/"
        },
        "outputId": "19742a51-ff4b-4d72-a33d-316f616bbd9f"
      },
      "source": [
        "# Verificando valores nulos após a limpeza do texto\n",
        "df.isna().sum()"
      ],
      "execution_count": null,
      "outputs": [
        {
          "output_type": "execute_result",
          "data": {
            "text/plain": [
              "listing_id       0\n",
              "id               0\n",
              "date             0\n",
              "reviewer_id      0\n",
              "reviewer_name    0\n",
              "comments         0\n",
              "comments_en      0\n",
              "dtype: int64"
            ]
          },
          "metadata": {},
          "execution_count": 218
        }
      ]
    },
    {
      "cell_type": "code",
      "source": [
        "# Convertendo tokens em string\n",
        "df.comments_en = df.comments_en.apply(' '.join)"
      ],
      "metadata": {
        "id": "AYuLq2L_KHbB"
      },
      "execution_count": null,
      "outputs": []
    },
    {
      "cell_type": "code",
      "source": [
        "# Salvando o dataset após a limpeza do texto\n",
        "df.to_csv('clean_reviews_en_30.csv', index=False, encoding='UTF-8') "
      ],
      "metadata": {
        "id": "4JyRwN_jgDk2"
      },
      "execution_count": null,
      "outputs": []
    }
  ]
}